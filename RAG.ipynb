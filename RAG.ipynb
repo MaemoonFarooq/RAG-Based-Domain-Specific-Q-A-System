{
  "cells": [
    {
      "cell_type": "code",
      "execution_count": null,
      "metadata": {
        "id": "SXVEYjvMrjTC"
      },
      "outputs": [],
      "source": [
        "!pip install pdfplumber\n",
        "!pip install langchain-text-splitter\n",
        "!pip install sentence_transformers\n",
        "!pip install faiss-cpu\n",
        "!pip install groq\n"
      ]
    },
    {
      "cell_type": "markdown",
      "metadata": {
        "id": "YuiFupoipv97"
      },
      "source": [
        "Conversion to plain text"
      ]
    },
    {
      "cell_type": "code",
      "execution_count": 14,
      "metadata": {
        "id": "c3wkrv3bpwjs"
      },
      "outputs": [],
      "source": [
        "import os\n",
        "import pdfplumber\n",
        "\n",
        "# Ensure the folder exists\n",
        "output_folder = \"textconversion\"\n",
        "os.makedirs(output_folder, exist_ok=True)\n",
        "\n",
        "# Define the output file path\n",
        "output_path = os.path.join(output_folder, \"output.txt\")\n",
        "\n",
        "# Extract text and write to the file\n",
        "with pdfplumber.open(\"Company-Policy-and-Procedure-June-1.18-V6.0.pdf\") as pdf, open(output_path, \"w\", encoding=\"utf-8\") as f:\n",
        "    for page in pdf.pages:\n",
        "        t = page.extract_text()\n",
        "        if t:\n",
        "            f.write(t + '\\n')\n"
      ]
    },
    {
      "cell_type": "code",
      "execution_count": 4,
      "metadata": {
        "id": "Fw13CjgbpyFR"
      },
      "outputs": [],
      "source": [
        "with open(\"/content/textconversion/output.txt\", \"r\", encoding=\"utf-8\") as document:\n",
        "    text = document.read()"
      ]
    },
    {
      "cell_type": "markdown",
      "metadata": {
        "id": "MUTbvhfArSsI"
      },
      "source": [
        "Text Splitting"
      ]
    },
    {
      "cell_type": "code",
      "execution_count": 5,
      "metadata": {
        "id": "ZJV5dr-KrTjk"
      },
      "outputs": [],
      "source": [
        "from langchain_text_splitters import RecursiveCharacterTextSplitter\n",
        "\n",
        "text_splitter = RecursiveCharacterTextSplitter(chunk_size=500, chunk_overlap=50)\n",
        "\n",
        "texts = text_splitter.split_text(text)\n"
      ]
    },
    {
      "cell_type": "markdown",
      "metadata": {
        "id": "NtxvSGTqrWzs"
      },
      "source": [
        "Conversion of Chunks to Embeddings"
      ]
    },
    {
      "cell_type": "code",
      "execution_count": 15,
      "metadata": {
        "id": "mKA5sOOJrXQR"
      },
      "outputs": [],
      "source": [
        "from sentence_transformers import SentenceTransformer\n",
        "\n",
        "model = SentenceTransformer('all-MiniLM-L6-v2')\n",
        "vectors = model.encode(texts)\n",
        "\n",
        "# Ensure the folder exists\n",
        "vector_folder = \"vectors\"\n",
        "os.makedirs(vector_folder, exist_ok=True)\n",
        "\n",
        "# Save the vectors\n",
        "output_path = os.path.join(vector_folder, \"embeddings.npy\")\n",
        "np.save(output_path, vectors)"
      ]
    },
    {
      "cell_type": "markdown",
      "metadata": {
        "id": "2UN32nPTyqzq"
      },
      "source": [
        "Store Embeddings"
      ]
    },
    {
      "cell_type": "code",
      "execution_count": 17,
      "metadata": {
        "id": "XKiYGl3mwzO1"
      },
      "outputs": [],
      "source": [
        "import faiss\n",
        "import numpy as np\n",
        "\n",
        "dimension = vectors.shape[1]\n",
        "index = faiss.IndexFlatL2(dimension)\n",
        "index.add(np.array(vectors))\n",
        "\n",
        "embedding_folder = \"embeddings\"\n",
        "os.makedirs(embedding_folder, exist_ok=True)\n",
        "\n",
        "\n",
        "index_path = os.path.join(embedding_folder, \"faiss_index.index\")\n",
        "faiss.write_index(index, index_path)\n",
        "\n"
      ]
    },
    {
      "cell_type": "markdown",
      "metadata": {
        "id": "jk2VBvvnytwR"
      },
      "source": [
        "Query Search"
      ]
    },
    {
      "cell_type": "code",
      "execution_count": null,
      "metadata": {
        "colab": {
          "base_uri": "https://localhost:8080/"
        },
        "collapsed": true,
        "id": "6m9309MUxiay",
        "outputId": "70a6e25b-d791-4135-db7a-395eb1e0da5f"
      },
      "outputs": [
        {
          "name": "stdout",
          "output_type": "stream",
          "text": [
            "Match: 18\n",
            "Our Commitment to Data Security\n",
            "Access to your data is limited to authorized TL staff or approved vendors. Although total security does not\n",
            "exist on the Internet, TL shall make commercially reasonable efforts to safeguard the information that you\n",
            "submit to TL or that TL collects.\n",
            "Use of the TL Website by Children\n",
            "The TL Website is not intended for use by children under the age of 13.\n",
            "Your Privacy Preferences\n"
          ]
        }
      ],
      "source": [
        "query = \"Age to acess the TL Website?\"\n",
        "query_embedding = model.encode([query])\n",
        "D, I = index.search(np.array(query_embedding), k=1)\n",
        "\n",
        "for idx in I[0]:\n",
        "    print(f\"Match: {texts[idx]}\")"
      ]
    },
    {
      "cell_type": "markdown",
      "metadata": {
        "id": "g3EnKY_DoxO5"
      },
      "source": [
        "Importing GROQ"
      ]
    },
    {
      "cell_type": "code",
      "execution_count": null,
      "metadata": {
        "id": "XEIMLLGu4FNo"
      },
      "outputs": [],
      "source": [
        "import os\n",
        "from groq import Groq\n",
        "\n",
        "client = Groq(api_key=\"add your own\")\n"
      ]
    },
    {
      "cell_type": "markdown",
      "metadata": {
        "id": "UXvK1yNao35G"
      },
      "source": [
        "Query Searching and LLM Generation"
      ]
    },
    {
      "cell_type": "code",
      "execution_count": 11,
      "metadata": {
        "id": "as-ptZN04KO5"
      },
      "outputs": [],
      "source": [
        "query = \"what is im not 18 to use the TL website?\"\n",
        "query_embedding = model.encode([query])\n",
        "D, I = index.search(np.array(query_embedding), k=3)\n",
        "\n",
        "context = texts[I[0][0]]\n",
        "\n",
        "rag_prompt = f\"\"\"\n",
        "Use the context below to answer the question.\n",
        "\n",
        "Context:\n",
        "{context}\n",
        "\n",
        "Question:\n",
        "{query}\n",
        "\n",
        "Answer:\n",
        "\"\"\"\n"
      ]
    },
    {
      "cell_type": "code",
      "execution_count": 12,
      "metadata": {
        "colab": {
          "base_uri": "https://localhost:8080/"
        },
        "id": "QqzJ6-EX4PU6",
        "outputId": "df97df8f-1b11-4d03-b34f-c2b52588ae66"
      },
      "outputs": [
        {
          "name": "stdout",
          "output_type": "stream",
          "text": [
            "You are not allowed to use the TL website if you are under the age of 13.\n"
          ]
        }
      ],
      "source": [
        "response = client.chat.completions.create(\n",
        "    model=\"llama-3.1-8b-instant\",\n",
        "    messages=[\n",
        "        {\"role\": \"system\", \"content\": \"You are a helpful assistant using provided context.\"},\n",
        "        {\"role\": \"user\", \"content\": rag_prompt}\n",
        "    ],\n",
        "    temperature=0.2\n",
        ")\n",
        "\n",
        "print(response.choices[0].message.content)"
      ]
    }
  ],
  "metadata": {
    "colab": {
      "provenance": []
    },
    "kernelspec": {
      "display_name": "Python 3",
      "name": "python3"
    },
    "language_info": {
      "name": "python"
    }
  },
  "nbformat": 4,
  "nbformat_minor": 0
}
